{
  "nbformat": 4,
  "nbformat_minor": 0,
  "metadata": {
    "colab": {
      "name": "A3_Q3.ipynb",
      "provenance": [],
      "collapsed_sections": [],
      "authorship_tag": "ABX9TyO7grFHQoX1hYEWpwyQjI2x",
      "include_colab_link": true
    },
    "kernelspec": {
      "name": "python3",
      "display_name": "Python 3"
    },
    "language_info": {
      "name": "python"
    },
    "accelerator": "GPU",
    "gpuClass": "standard"
  },
  "cells": [
    {
      "cell_type": "markdown",
      "metadata": {
        "id": "view-in-github",
        "colab_type": "text"
      },
      "source": [
        "<a href=\"https://colab.research.google.com/github/frankdede/ECE657-A3/blob/master/A3_Q3.ipynb\" target=\"_parent\"><img src=\"https://colab.research.google.com/assets/colab-badge.svg\" alt=\"Open In Colab\"/></a>"
      ]
    },
    {
      "cell_type": "markdown",
      "source": [
        "### **Problem 3:** Sentiment Analysis on IMDB review dataset"
      ],
      "metadata": {
        "id": "kaBkrouFaJdu"
      }
    },
    {
      "cell_type": "code",
      "execution_count": 134,
      "metadata": {
        "id": "iRkrrGPBa8Po"
      },
      "outputs": [],
      "source": [
        "# Importing the required libraries\n",
        "import tensorflow as tf\n",
        "import tarfile\n",
        "import os\n",
        "import numpy as np\n",
        "import re\n",
        "import random\n",
        "import tensorflow as tf\n",
        "from tensorflow import keras\n",
        "from sklearn.utils import shuffle\n",
        "from sklearn.model_selection import train_test_split\n",
        "from tensorflow.python.keras import Sequential\n",
        "from tensorflow.python.keras.layers import Dense, LSTM, Dropout, Embedding\n",
        "import nltk\n",
        "from nltk.corpus import stopwords\n",
        "import matplotlib.pyplot as plt\n",
        "import pickle"
      ]
    },
    {
      "cell_type": "code",
      "source": [
        "# Downloading the stopwords for data preprocessing\n",
        "nltk.download('stopwords')"
      ],
      "metadata": {
        "colab": {
          "base_uri": "https://localhost:8080/"
        },
        "id": "LbXrmKmoRwSO",
        "outputId": "dba13215-609a-43c3-fddf-9c2b4798f53e"
      },
      "execution_count": 129,
      "outputs": [
        {
          "output_type": "stream",
          "name": "stderr",
          "text": [
            "[nltk_data] Downloading package stopwords to /root/nltk_data...\n",
            "[nltk_data]   Package stopwords is already up-to-date!\n"
          ]
        },
        {
          "output_type": "execute_result",
          "data": {
            "text/plain": [
              "True"
            ]
          },
          "metadata": {},
          "execution_count": 129
        }
      ]
    },
    {
      "cell_type": "code",
      "source": [
        "# Function to download the data from the website and extracting it\n",
        "def load_data():\n",
        "  Imdb_Dataset_raw = tf.keras.utils.get_file(\n",
        "      fname = \"aclImdb_v1.tar\",\n",
        "      origin = \"https://ai.stanford.edu/~amaas/data/sentiment/aclImdb_v1.tar.gz\",\n",
        "      extract = True\n",
        "  )\n",
        "  Imdb_Dataset_extracted = tarfile.open(Imdb_Dataset_raw)\n",
        "  Imdb_Dataset_extracted.extractall('./data/')\n",
        "  Imdb_Dataset_extracted.close()\n",
        "  "
      ],
      "metadata": {
        "id": "ZTxeZm-3e-gX"
      },
      "execution_count": 131,
      "outputs": []
    },
    {
      "cell_type": "code",
      "source": [
        "# Call load_data() to load the data\n",
        "load_data()"
      ],
      "metadata": {
        "id": "PyTXBx54g9_m",
        "colab": {
          "base_uri": "https://localhost:8080/"
        },
        "outputId": "6a372839-bdb4-41c1-c391-8bee86e4662c"
      },
      "execution_count": 132,
      "outputs": [
        {
          "output_type": "stream",
          "name": "stdout",
          "text": [
            "Downloading data from https://ai.stanford.edu/~amaas/data/sentiment/aclImdb_v1.tar.gz\n",
            "84131840/84125825 [==============================] - 3s 0us/step\n",
            "84140032/84125825 [==============================] - 3s 0us/step\n"
          ]
        }
      ]
    },
    {
      "cell_type": "code",
      "source": [
        "pos_path = '/content/data/aclImdb/train/pos'\n",
        "neg_path = '/content/data/aclImdb/train/neg'\n",
        "  \n",
        "train_data_pos = [open(os.path.join(pos_path, f)).read() for f in os.listdir(pos_path)]\n",
        "\n",
        "train_data_neg = [open(os.path.join(neg_path, f)).read() for f in os.listdir(neg_path)]\n",
        "\n",
        "train_X = np.concatenate((train_data_pos, train_data_neg), axis = 0)\n",
        "train_y = np.hstack((np.ones(len(train_data_pos)), np.zeros(len(train_data_neg))))\n"
      ],
      "metadata": {
        "id": "2jCMpJ7ChNt3"
      },
      "execution_count": 133,
      "outputs": []
    },
    {
      "cell_type": "code",
      "source": [
        "train_X.shape, train_y.shape"
      ],
      "metadata": {
        "colab": {
          "base_uri": "https://localhost:8080/"
        },
        "id": "WEG8xmk-OErq",
        "outputId": "505b20fd-3128-4d37-9feb-fba231062b33"
      },
      "execution_count": 102,
      "outputs": [
        {
          "output_type": "execute_result",
          "data": {
            "text/plain": [
              "((25000,), (25000,))"
            ]
          },
          "metadata": {},
          "execution_count": 102
        }
      ]
    },
    {
      "cell_type": "code",
      "source": [
        "pos_path = '/content/data/aclImdb/test/pos'\n",
        "neg_path = '/content/data/aclImdb/test/neg'\n",
        "  \n",
        "test_data_pos = [open(os.path.join(pos_path, f)).read() for f in os.listdir(pos_path)]\n",
        "\n",
        "test_data_neg = [open(os.path.join(neg_path, f)).read() for f in os.listdir(neg_path)]\n",
        "\n",
        "test_X = np.concatenate((test_data_pos, test_data_neg), axis = 0)\n",
        "test_y = np.hstack((np.ones(len(test_data_pos)), np.zeros(len(test_data_neg))))"
      ],
      "metadata": {
        "id": "N6MFsm--SW6J"
      },
      "execution_count": 103,
      "outputs": []
    },
    {
      "cell_type": "code",
      "source": [
        "test_X.shape, test_y.shape"
      ],
      "metadata": {
        "colab": {
          "base_uri": "https://localhost:8080/"
        },
        "id": "leOony-bStxe",
        "outputId": "f1006194-cb6d-4ea3-f95f-d57724bb286b"
      },
      "execution_count": 104,
      "outputs": [
        {
          "output_type": "execute_result",
          "data": {
            "text/plain": [
              "((25000,), (25000,))"
            ]
          },
          "metadata": {},
          "execution_count": 104
        }
      ]
    },
    {
      "cell_type": "code",
      "source": [
        "train_X"
      ],
      "metadata": {
        "colab": {
          "base_uri": "https://localhost:8080/"
        },
        "id": "fL9qb4ZZzf-d",
        "outputId": "1e1ef02b-754b-41f3-b916-02993c9bb29c"
      },
      "execution_count": 105,
      "outputs": [
        {
          "output_type": "execute_result",
          "data": {
            "text/plain": [
              "array([\"Just kidding, I rented 12 Monkeys the other day because I am a huge Bruce Willis fan and I heard some things about the film. Some good and some bad, but it was one of those films you had to pay attention to every second, so I was a bit worried. Just because I felt like for a minute if this was going to be one of those films that I had to watch several times to get. But I watched it last night and I was really impressed, this movie had everything in it: action, drama, sci-fi, history, dark humor, and even a little romance. The actors all did a terrific job, I give a lot of credit to Bruce, during his scene in the car with his psychiatrist, he really got to me. But Brad Pitt, I'm just amazed with how much of a great job he did. He didn't over do his character, who was crazy, and just made it work and was extremely believable. The story was just scary, but very good and a wake up call.<br /><br />James Cole is a man in the future where a virus broke out in the past and killed 5 billion people and only 1% of the population survived including him. Animals are now ruling the ground above while the humans are down below, but scientists send James to the past of 1990(really meaning to send him to '96), to find out about information of the virus. James gets put into a mental institution meeting his new psychiatrist, Dr. Kathryn Raily and another mental patient, Jeffrey Goines. He tells them the future, of course no one believes him, he goes back to the future. But the scientists send him back to the correct year to where the doctor is kidnapped by James, but he tells her more, and believes him. Now they are set on trying to prevent the virus from ever happening.<br /><br />12 Monkeys was an incredible film. Like I said the story was so scary just because it's not at all hard to believe that we are not far from that happening. But the whole movie was just great, the cast, the sets, just the whole picture was a great one. It had a Terminator type of feel to it where we might loose something precious one day, ourselves if we don't listen to others. What is right and what is wrong? Who knows? But I would highly recommend 12 Monkeys, it's a great movie that if you give it the proper chance, I'm sure you'll enjoy it.<br /><br />9/10\",\n",
              "       'I was pretty young when this came out in the US, but I recorded it from TV and watched it over and over again until I had the whole thing memorized. To this day I still catch myself quoting it. The show itself was hilarious and had many famous characters, from Frank Sinatra, to Sylvester Stallone, to Mr. T. The voices were great, and sounded just like the characters they were portraying. The puppets were also well done, although a little creepy. I was surprised to find out just recently that it was written by Rob Grant and Doug Naylor of Red Dwarf, a show that I also enjoy very much. Like another person had written in a comment earlier, I too was robbed of this great show by a \"friend\" who borrowed it and never returned it. I sure wish there was enough demand for this show to warrant a DVD release, but I don\\'t think enough people have heard of it. Oh well, maybe I\\'ll try e-bay...',\n",
              "       'A wonderful early musical film from Rene Clair, as fun and witty as his silent \"The Italian Straw Hat\". Using sound in a expressive way and not just for dialogue and effects, Clair influenced early musicals in America (the opera scene from A Night at the Opera is strongly influenced by Le Million, for example). Should (but won\\'t) be seen by all cinephiles, and the DVD from Criterion is exactly as good as you\\'d expect. There\\'s not a ton of extras, but most DVD extras I\\'ve seen are useless fluff, and the Clair interview on disc is one I hadn\\'t ever seen. Get it while it\\'s still around.',\n",
              "       ...,\n",
              "       'I recently bought the DVD, forgetting just how much I hated the movie version of \"A Chorus Line.\" Every change the director Attenborough made to the story failed.<br /><br />By making the Director-Cassie relationship so prominent, the entire ensemble-premise of the musical sails out the window.<br /><br />Some of the musical numbers are sped up and rushed. The show\\'s hit song gets the entire meaning shattered when it is given to Cassie\\'s character.<br /><br />The overall staging is very self-conscious.<br /><br />The only reason I give it a 2, is because a few of the great numbers are still able to be enjoyed despite the film\\'s attempt to squeeze every bit of joy and spontaneity out of it.',\n",
              "       \"I tried to finish this film three times, but it's god awful. Case in point: mom and daughter drive up to the bed and breakfast,mom stops for gas, crazy gas station weirdos mad at her hubby whose running the B&B try to rape her. She escapes, heads to B&B and instead of hubby going ballistic and she wanting to call the cops, story just continues with lukewarm behavior on both their parts. Wow.<br /><br />Other action logic deficits abound. Acting is also lukewarm, and the next door neighbor's warning is delivered in a really corny, badly acted moment.<br /><br />Moments of intense gore/death unevenly interwoven with lukewarm scenes of time-filler interplay between characters.<br /><br />Less focus on gore, more focus on mood and story would have been appreciated.\",\n",
              "       \"If you like to be entertained, do not go see this movie. If you like to see heroics of war, do not go see this movie. If you like to see good acting and an excellent screenplay, do not go see this movie. If you like typical hollywood war films that end just in time to give a politically charged appeal to the public about the greatness and glory of war, GO SEE THIS MOVIE. Otherwise, don't waste your time. I am always interested in war movies because I think that if they are done well, they can TEACH us something about the paradoxical and worthless qualities of war. This film shows a bunch of guys running around the countryside, saying whorrible cliche lines, doing the most predictable things, and defending the oppressed with the same exact force and brutality that was being given to the oppressed. This film is a disgrace to filmmaking and to the United States of America! Can you imagine being a person from Europe or Africa, or any other country and watching this, being told that this is how Americans truly are? No wonder everyone hates us! Please, please, please, don't waste your time on this piece of junk; if you must, wait and rent it. 4/10\"],\n",
              "      dtype='<U13704')"
            ]
          },
          "metadata": {},
          "execution_count": 105
        }
      ]
    },
    {
      "cell_type": "code",
      "source": [
        "def data_cleanup(data_raw):\n",
        "  tokens = re.compile(\"[.;:!#\\'?,\\\"()\\[\\]]|(<br\\s*/><br\\s*/>)|(\\-)|(\\/)\")\n",
        "  res = [tokens.sub(\"\", d.lower()) for d in data_raw]\n",
        "\n",
        "  stop_words = set(nltk.corpus.stopwords.words(\"english\"))\n",
        "\n",
        "  data_cleaned = [r for r in res if r not in stop_words]\n",
        "    \n",
        "  return res"
      ],
      "metadata": {
        "id": "77J-dBmx0Xft"
      },
      "execution_count": 106,
      "outputs": []
    },
    {
      "cell_type": "code",
      "source": [
        "train_X_cleaned = data_cleanup(train_X)\n",
        "test_X_cleaned = data_cleanup(test_X)"
      ],
      "metadata": {
        "id": "Xx4T6UGJ4Yze"
      },
      "execution_count": 107,
      "outputs": []
    },
    {
      "cell_type": "markdown",
      "source": [
        "Cleaned train data"
      ],
      "metadata": {
        "id": "YsNyOOul7ARL"
      }
    },
    {
      "cell_type": "code",
      "source": [
        "for i in range(0,5):\n",
        "  print(train_X_cleaned[i])"
      ],
      "metadata": {
        "colab": {
          "base_uri": "https://localhost:8080/"
        },
        "id": "o-uWylPc4wwm",
        "outputId": "573e424e-b11a-4b61-f4c8-6851e75f2c1a"
      },
      "execution_count": 109,
      "outputs": [
        {
          "output_type": "stream",
          "name": "stdout",
          "text": [
            "just kidding i rented 12 monkeys the other day because i am a huge bruce willis fan and i heard some things about the film some good and some bad but it was one of those films you had to pay attention to every second so i was a bit worried just because i felt like for a minute if this was going to be one of those films that i had to watch several times to get but i watched it last night and i was really impressed this movie had everything in it action drama scifi history dark humor and even a little romance the actors all did a terrific job i give a lot of credit to bruce during his scene in the car with his psychiatrist he really got to me but brad pitt im just amazed with how much of a great job he did he didnt over do his character who was crazy and just made it work and was extremely believable the story was just scary but very good and a wake up calljames cole is a man in the future where a virus broke out in the past and killed 5 billion people and only 1% of the population survived including him animals are now ruling the ground above while the humans are down below but scientists send james to the past of 1990really meaning to send him to 96 to find out about information of the virus james gets put into a mental institution meeting his new psychiatrist dr kathryn raily and another mental patient jeffrey goines he tells them the future of course no one believes him he goes back to the future but the scientists send him back to the correct year to where the doctor is kidnapped by james but he tells her more and believes him now they are set on trying to prevent the virus from ever happening12 monkeys was an incredible film like i said the story was so scary just because its not at all hard to believe that we are not far from that happening but the whole movie was just great the cast the sets just the whole picture was a great one it had a terminator type of feel to it where we might loose something precious one day ourselves if we dont listen to others what is right and what is wrong who knows but i would highly recommend 12 monkeys its a great movie that if you give it the proper chance im sure youll enjoy it910\n",
            "i was pretty young when this came out in the us but i recorded it from tv and watched it over and over again until i had the whole thing memorized to this day i still catch myself quoting it the show itself was hilarious and had many famous characters from frank sinatra to sylvester stallone to mr t the voices were great and sounded just like the characters they were portraying the puppets were also well done although a little creepy i was surprised to find out just recently that it was written by rob grant and doug naylor of red dwarf a show that i also enjoy very much like another person had written in a comment earlier i too was robbed of this great show by a friend who borrowed it and never returned it i sure wish there was enough demand for this show to warrant a dvd release but i dont think enough people have heard of it oh well maybe ill try ebay\n",
            "a wonderful early musical film from rene clair as fun and witty as his silent the italian straw hat using sound in a expressive way and not just for dialogue and effects clair influenced early musicals in america the opera scene from a night at the opera is strongly influenced by le million for example should but wont be seen by all cinephiles and the dvd from criterion is exactly as good as youd expect theres not a ton of extras but most dvd extras ive seen are useless fluff and the clair interview on disc is one i hadnt ever seen get it while its still around\n",
            "an intriguingly bold film weaves the seemingly effortless camerawork with some superb casting and an explosive soundtrack to plot the damaging effects of the crime and corruption of the santiago underworld on 2 naive young brothers from the southern city of temucofilm debutant daniella rios is the seductive erotic dancer gracia working in the nightclub owned by the face of the new miniwave in chilean film production alejandro trejo the elder brother played maturely by nestor cantillana is easily convinced to become trejos lead henchman after a night at the stripclub to celebrate younger brother victors juan pablo miranda seventeenth birthday from the establishing shot of this opening scene the film explodes into neonoir exploration of everything the outside world doesnt usually expect to see in this country so stereotypically conservative and catholicgracias charms of seduction attract the three men like bees to honey although the circular narrative of the threeway fantasy romance revolves around the linear portrayal of major international drug deals between trejos men and the gringo eduardo barril power relations become a vital theme as societys outsiders merge in a minifamily the prostitute holds an exotic spell over all the chilean men in the film emerging from her ambiguous position in the periphery of society and is seen as holding the key to all three mens futures the relationships between trejo and cantillana become important as the boys parents are conspicious by their absence one assumes they still live in temuco therefore it is trejo el padrino who adopts cantillana and effectively makes him as a man in the city miranda rapidly becomes the desperate outsider as his dependency on his father figure cantillana becomes increasingly strained by jealousy over the beautiful gracia however miranda remains trapped by the constraint of still being in school  he is dependent on cantillana who is dependent on trejo for the money to survive trejo in turn is under the thumb of the gringo and his wealth has been accumulated through drug deals and well as his strip clubs the figure of gracia acts as a time bomb viewed as a beautiful firework she wraps a web of beauty inside the patriarchy but the strain can only lead to one climaxas the tensions of these power relations come to head gracia remains ambiguously elusive the viewer is never sure which male figure she will commit to the film concludes tragically and explosively in a shoot out which realigns power relations and erases half the major male protanganists the final shot of mirandas beaten face speeding down the panamericano highway is despairingly powerful the boy has been sucked in by the lure of the citys underworld yet has lost his only visible family and his woman who is his only friend in the film he has nothing the overriding metaphors are bold and brave this is a gangster film in chile the notions of family no sex before marriage etc are abolished and instead the harsh realities of the other side of santiagos coin are displayed in all their savage glory trejo beats rios brutally rios and miranda make love in a cinema reel room  a whore having sex with a minor she barely knows the gringos are seen to have a financial hold over this small latin american nation but not through the copper mines through the illegal path of drugswaissbluths triumph is in his presentation of this dark underworld which raises so many social questions more perhaps than the recordbreakingly successful sexo con amor within a slick smooth firecracker of a film which place this film firmly alongside sexo con amor taxi para tres and el chacotero sentimental as cinematic evidence that chile is well and truly artistically alive and kicking in the posttransition period 15 years after the censorship of the military regime\n",
            "according to this board i guess either you love it or hate it usually how it goes with all movies there is no need to get testy with others though all we are doing here is giving opinions i rented this movie last night and i want to come and throw my opinion in the mix i was surprised by how many people are thrashing it though theres a difference between a movie fan and a horror movie fan im a horror movie fan most plain olé movie fans dont like horror movies so many low budget cam corder looking movies are coming out these days its hard to keep up and what makes it tough to stay into these movies is how bad they are i wanted to come and write a review about hood of the living dead because its pretty damn good compared to the rest of the junk out there its nothing special but its those horror film makers that try to be too serious that end up making a horrible horror film i really liked this one you telling me there is no effort in this one and one more thing i bet all of you have all of these huge dvd collections that you are so proud of nothing but major motion pictures right nothing wrong with that but you have to know how to appreciate lowbudget independent i knew what i was getting when i watched this movie im not going to be upset because i thought it was going to be some 100 million dollar movie some of you might need to stick with watching the matrix over and over again and stop trying to compare everything to the matrix and if most of you are under 24 that explains everything good movie folks check it out\n"
          ]
        }
      ]
    },
    {
      "cell_type": "markdown",
      "source": [
        "cleaned test data"
      ],
      "metadata": {
        "id": "2cOqmSuf7Da0"
      }
    },
    {
      "cell_type": "code",
      "source": [
        "for i in range(0,5):\n",
        "  print(test_X_cleaned[i])"
      ],
      "metadata": {
        "colab": {
          "base_uri": "https://localhost:8080/"
        },
        "id": "TzjKmC_y7E51",
        "outputId": "ce96da2d-71e6-4efd-bae4-f9318ed617c4"
      },
      "execution_count": 110,
      "outputs": [
        {
          "output_type": "stream",
          "name": "stdout",
          "text": [
            "i like full house and step by step the same i dont have a favorite episode i just like certain scenes but some scenes i dont like but i haft to say the reason i started watching this show is because it had suzanne summers in it and my most favorite character was dana and karen could be a snob sometimes but she was good character also i just like to watch family shows instead of trash that has a lot of drugs and violence this show is a lot like other family shows where one of the parents are always strict about curfews and dates other than step by step my other favorite shows are full house sabrina the teenage witch gomer pyle usmc the andy griffith show and dukes of hazzard\n",
            "an amazing film ive only just seen it and i already want to see it again id never heard of derek jarman before i saw this film but now i am i cant wait to see his others the film takes a whole new perspective of shakespeares the tempest im sure hed have appreciated it for jarmans use of the the plays themes of love magic darkness and atmospheric tension ok ok there may have been a bit of nudity in the film which i hadnt really anticipated but it didnt offend me it just surprised me and made the film more unpredictable one spoiler for those of a nervous disposition fast forward the flashback scene with sycorax & caliban and ariel as their slave its pretty graphic overall if you are starting to find kenneth branaghs shakespeare performances flaccid and monotonous then you need to see this film fantastic and surreal itll blow you away but only if you let it have an open mind  and then let this film work its magic on you\n",
            "this is an exceptional film it is part comedy part drama part suspense the dialog is exquisite most of the actors and actresses were very famous in their time and for good reason you will probably recognize someone even if you dont usually watch older movies they are also each in a role that particularly suits their talents one correction to make on another users comment is that two people not one are announced to die in the accident maybe the unlucky two are a reflection of what the writer considers important in life the movie is too engaging to worry about who it is until it happensthe story is ahead of its time but it does not lose the quality of an older movie time and effort was spent perfecting the cameras view and the soundtrack something modern movie makers tend to forget\n",
            "this is a great compendium of interviews and excerpts form the films of the late sixties and early 70s that were a counter movement to the big studio films of the late sixties directed by ted demme it is obviously a labor of love of the films of the period but it gives short shrift to the masterpieces of the timesmany of the filmmakers of this period were influenced by truffaut antonioni fellini bergman and of course john cassavetes unfortunately the documentary logging in at 138 minutes is too short the film is rich with interviews and opinions of filmmakers some of the people interviewed are martin scorsese francis coppola robert altman peter bogdonovich ellen burstyn and roger corman bruce dern sydney pollack dennis hopper and jon voightbruce dern has a moment of truth when he says that he and jack nicholson may not have been as good looking as the other stars that came before them but they were interesting this summarizes the other areas of this period of filmmaking in american historythe filmmakers were dealing with a lack of funding from the studios because they were expressing unconventional attitudes about politics sex drugs gender and race issues and americas involvement in overseas conflicts like the vietnam warthere is a great interview with francis coppola saying that he got the chance to make the conversation because the producers knew he had been trained by roger corman to make a movie with nothing so they bankrolled his filmanother interview is with jon voight who was directed by hal ashby in coming home a clear antiwar film about a crippled soldier immersing himself back into society after his facing battle voight talks about how his working methods helped him achieve an emotional telling point when ashby said that they were doing a rehearsal take and it ended up being the take used in the film it was better because it was so unrehearsed and not drained of its freshness by being overrehearsedthere are also many fine excerpts from al pacinos breakthrough film the panic in needle park and interviews from dennis hopper on the making of easy rider and interviews from sydney pollack about making filmsall in all the documentary is a fine jumping off point for any film lover who wants to see great examples of what the new voices in film were like in the seventies many of the sundance folks where this film made a big splash are unaware of just how much the independent film maker today owes to the films of john cassavetes milos foreman william friedkin and roger cormanrent it from your favorite shop it will at least perk you up to some films you may not have seen before and can enjoy today amazoncom has it for as little as $1150 if you want to buy right out\n",
            "this is another of robert altmans underrated filmslets be honest the only movie hes made that really didnt work was ready to wear and sandy dennis gives a spellbinding performance in itshe is far better here than she was in the out of towners the material i will admit is beneath the great director altman and the extraordinary actress dennis but that hardly matters anywayas long as there allowed to do their thing and do it well just about any story will do\n"
          ]
        }
      ]
    },
    {
      "cell_type": "code",
      "source": [
        "tokenizer = keras.preprocessing.text.Tokenizer()\n",
        "tokenizer.fit_on_texts(train_X_cleaned)\n",
        "train_X = tokenizer.texts_to_sequences(train_X_cleaned)\n",
        "test_X = tokenizer.texts_to_sequences(test_X_cleaned)"
      ],
      "metadata": {
        "id": "0tsH1OpAfQ-S"
      },
      "execution_count": 111,
      "outputs": []
    },
    {
      "cell_type": "code",
      "source": [
        "train_X = keras.preprocessing.sequence.pad_sequences(train_X,padding='post',maxlen=500)\n",
        "test_X = keras.preprocessing.sequence.pad_sequences(test_X,padding='post',maxlen=500)\n",
        "\n",
        "train_X, test_X, train_y, test_y = train_test_split(train_X, train_y, test_size=0.2, random_state=42)"
      ],
      "metadata": {
        "id": "q6o_1Oe-itT9"
      },
      "execution_count": 113,
      "outputs": []
    },
    {
      "cell_type": "code",
      "source": [
        "vocab_size = len(tokenizer.word_index)+1\n",
        "\n",
        "model = keras.Sequential()\n",
        "model.add(keras.layers.Embedding(vocab_size, 32))\n",
        "model.add(keras.layers.Conv1D(filters=32,kernel_size=8,padding='valid',activation='relu'))\n",
        "model.add(keras.layers.GlobalAveragePooling1D())\n",
        "model.add(keras.layers.Dropout(0.6))\n",
        "model.add(keras.layers.Dense(32, activation='relu'))\n",
        "model.add(keras.layers.Dropout(0.6))\n",
        "model.add(keras.layers.Dense(1, activation='sigmoid'))\n",
        "\n",
        "model.summary()"
      ],
      "metadata": {
        "colab": {
          "base_uri": "https://localhost:8080/"
        },
        "id": "Dncjtuq9MQPG",
        "outputId": "6ca551b2-90e6-4208-d692-d89bfb8267c3"
      },
      "execution_count": 120,
      "outputs": [
        {
          "output_type": "stream",
          "name": "stdout",
          "text": [
            "Model: \"sequential_23\"\n",
            "_________________________________________________________________\n",
            " Layer (type)                Output Shape              Param #   \n",
            "=================================================================\n",
            " embedding_23 (Embedding)    (None, None, 32)          4568736   \n",
            "                                                                 \n",
            " conv1d_23 (Conv1D)          (None, None, 32)          8224      \n",
            "                                                                 \n",
            " global_average_pooling1d_6   (None, 32)               0         \n",
            " (GlobalAveragePooling1D)                                        \n",
            "                                                                 \n",
            " dropout_42 (Dropout)        (None, 32)                0         \n",
            "                                                                 \n",
            " dense_26 (Dense)            (None, 32)                1056      \n",
            "                                                                 \n",
            " dropout_43 (Dropout)        (None, 32)                0         \n",
            "                                                                 \n",
            " dense_27 (Dense)            (None, 1)                 33        \n",
            "                                                                 \n",
            "=================================================================\n",
            "Total params: 4,578,049\n",
            "Trainable params: 4,578,049\n",
            "Non-trainable params: 0\n",
            "_________________________________________________________________\n"
          ]
        }
      ]
    },
    {
      "cell_type": "code",
      "source": [
        "model.compile(optimizer='adam',\n",
        "              loss='binary_crossentropy',\n",
        "              metrics=['acc'])"
      ],
      "metadata": {
        "id": "rvYuaP07OY2u"
      },
      "execution_count": 121,
      "outputs": []
    },
    {
      "cell_type": "code",
      "source": [
        "history = model.fit(train_X, train_y,\n",
        "                    epochs=5,\n",
        "                    validation_data=(test_X, test_y),\n",
        "                    verbose=1, # print result every epoch\n",
        "                    batch_size=250)"
      ],
      "metadata": {
        "colab": {
          "base_uri": "https://localhost:8080/"
        },
        "id": "hnZUCHd9ObF8",
        "outputId": "a1b40510-8f9c-4943-8458-751f2d1d864c"
      },
      "execution_count": 122,
      "outputs": [
        {
          "output_type": "stream",
          "name": "stdout",
          "text": [
            "Epoch 1/5\n",
            "80/80 [==============================] - 2s 13ms/step - loss: 0.6890 - acc: 0.5430 - val_loss: 0.6603 - val_acc: 0.7176\n",
            "Epoch 2/5\n",
            "80/80 [==============================] - 1s 10ms/step - loss: 0.5442 - acc: 0.7613 - val_loss: 0.3641 - val_acc: 0.8788\n",
            "Epoch 3/5\n",
            "80/80 [==============================] - 1s 10ms/step - loss: 0.3321 - acc: 0.8781 - val_loss: 0.2820 - val_acc: 0.8926\n",
            "Epoch 4/5\n",
            "80/80 [==============================] - 1s 10ms/step - loss: 0.2403 - acc: 0.9197 - val_loss: 0.2623 - val_acc: 0.9000\n",
            "Epoch 5/5\n",
            "80/80 [==============================] - 1s 10ms/step - loss: 0.1828 - acc: 0.9406 - val_loss: 0.2610 - val_acc: 0.8990\n"
          ]
        }
      ]
    },
    {
      "cell_type": "code",
      "source": [
        "plt.plot(history.history['val_loss'],label=\"val loss\")\n",
        "plt.plot(history.history['loss'],label=\"train loss\")\n",
        "plt.xlabel('epoch')\n",
        "plt.ylabel('loss')\n",
        "\n",
        "plt.legend()\n",
        "plt.show()\n",
        "\n"
      ],
      "metadata": {
        "colab": {
          "base_uri": "https://localhost:8080/",
          "height": 279
        },
        "id": "hN8jFITrUXon",
        "outputId": "19f4094b-1aba-4f31-9081-a30bbda913fe"
      },
      "execution_count": 123,
      "outputs": [
        {
          "output_type": "display_data",
          "data": {
            "text/plain": [
              "<Figure size 432x288 with 1 Axes>"
            ],
            "image/png": "[encoded data removed]"
          },
          "metadata": {
            "needs_background": "light"
          }
        }
      ]
    },
    {
      "cell_type": "code",
      "source": [
        "plt.plot(history.history['val_acc'],label=\"val accuracy\")\n",
        "plt.plot(history.history['acc'],label=\"accuracy\")\n",
        "plt.xlabel('epoch')\n",
        "plt.ylabel('Accuracy')\n",
        "\n",
        "plt.legend()\n",
        "plt.show()"
      ],
      "metadata": {
        "colab": {
          "base_uri": "https://localhost:8080/",
          "height": 279
        },
        "id": "c0LtF8viU1YX",
        "outputId": "c5c90549-fd74-4d4a-e9bb-ac619a56bc4f"
      },
      "execution_count": 124,
      "outputs": [
        {
          "output_type": "display_data",
          "data": {
            "text/plain": [
              "<Figure size 432x288 with 1 Axes>"
            ],
            "image/png": "[encoded data removed]"
          },
          "metadata": {
            "needs_background": "light"
          }
        }
      ]
    },
    {
      "cell_type": "code",
      "source": [
        "model.save(os.path.join('models','Group_80_NLP_model'))\n",
        "with open('models/Group_80_NLP_model/NLP_token.pkl', 'wb') as handle:\n",
        "  pickle.dump(tokenizer, handle, protocol=pickle.HIGHEST_PROTOCOL )\n",
        "model.save('models/Group_80_NLP_model')"
      ],
      "metadata": {
        "colab": {
          "base_uri": "https://localhost:8080/"
        },
        "id": "FM5x2lekZh04",
        "outputId": "2616f4b5-e677-4827-ee1a-7933cff3b915"
      },
      "execution_count": 127,
      "outputs": [
        {
          "output_type": "stream",
          "name": "stdout",
          "text": [
            "INFO:tensorflow:Assets written to: models/Group_80_NLP_model/assets\n",
            "INFO:tensorflow:Assets written to: models/Group_80_NLP_model/assets\n"
          ]
        }
      ]
    }
  ]
}