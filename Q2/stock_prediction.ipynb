{
 "cells": [
  {
   "cell_type": "code",
   "execution_count": 185,
   "id": "435566a6-4060-42db-85bc-14c6bfcb45ae",
   "metadata": {},
   "outputs": [],
   "source": [
    "import torch"
   ]
  },
  {
   "cell_type": "code",
   "execution_count": 186,
   "id": "ea0f6cbe-662e-41e9-ac2d-a6dc50b340b2",
   "metadata": {},
   "outputs": [],
   "source": [
    "from sklearn.preprocessing import MinMaxScaler"
   ]
  },
  {
   "cell_type": "code",
   "execution_count": 187,
   "id": "24c107c7-c77c-4b74-9bc4-a7d10ef38b08",
   "metadata": {},
   "outputs": [],
   "source": [
    "import pandas as pd"
   ]
  },
  {
   "cell_type": "code",
   "execution_count": 188,
   "id": "3b96c68e-64a0-4e4f-847f-57cd1cc23ae9",
   "metadata": {},
   "outputs": [],
   "source": [
    "df = pd.read_csv(\"./q2_dataset.csv\")"
   ]
  },
  {
   "cell_type": "code",
   "execution_count": 189,
   "id": "648e9f1f-fb72-4d1b-8a37-2ed4bbe2673f",
   "metadata": {},
   "outputs": [],
   "source": [
    "df.columns = df.columns.str.strip()\n",
    "\n",
    "feat_names = ['Volume', 'Open', 'High', 'Low']\n",
    "target_name = 'Open'\n",
    "df = df[feat_names]\n",
    "scalers = {}\n",
    "for column in df.columns:\n",
    "    scalers[column] = MinMaxScaler(feature_range=(-1, 1))\n",
    "    df[column] = scalers[column].fit_transform(df[column].values.reshape(-1,1))\n"
   ]
  },
  {
   "cell_type": "code",
   "execution_count": 190,
   "id": "1a74ee2e-3ddc-494f-b685-e171435f40b0",
   "metadata": {},
   "outputs": [
    {
     "data": {
      "text/plain": [
       "{'Volume': MinMaxScaler(feature_range=(-1, 1)),\n",
       " 'Open': MinMaxScaler(feature_range=(-1, 1)),\n",
       " 'High': MinMaxScaler(feature_range=(-1, 1)),\n",
       " 'Low': MinMaxScaler(feature_range=(-1, 1))}"
      ]
     },
     "execution_count": 190,
     "metadata": {},
     "output_type": "execute_result"
    }
   ],
   "source": [
    "scalers"
   ]
  },
  {
   "cell_type": "code",
   "execution_count": 191,
   "id": "a118e2a3-3915-4bb8-b52b-c9c1f92c6f17",
   "metadata": {},
   "outputs": [],
   "source": [
    "import numpy as np\n",
    "def split_data(df, feat_names,  target_name, window):\n",
    "    data = df[feat_names]\n",
    "    data[f\"{target_name}_target\"] = df[target_name] \n",
    "    data = data.to_numpy()\n",
    "\n",
    "    windows = []\n",
    "    for i in range(len(data) - window):\n",
    "        windows.append(data[i: i + window, :-1].reshape(1, -1))\n",
    "    \n",
    "    windows = np.array(windows)\n",
    "\n",
    "    x = windows[1:, :]\n",
    "    y = data[:len(data) - window -1, -1].reshape(-1, 1)\n",
    "    \n",
    "    \n",
    "    split = 0.7\n",
    "    train_set_size = int(len(windows) * split)\n",
    "    \n",
    "    x_train = x[:train_set_size, :, :]\n",
    "    y_train = y[:train_set_size]\n",
    "    \n",
    "    x_test = x[train_set_size:, :, :]\n",
    "    y_test = y[train_set_size:]\n",
    "    return x_train, y_train, x_test, y_test"
   ]
  },
  {
   "cell_type": "code",
   "execution_count": 192,
   "id": "29f1f708-9922-4c13-aaa8-d90c19b4b8b5",
   "metadata": {},
   "outputs": [
    {
     "name": "stdout",
     "output_type": "stream",
     "text": [
      "shifted train x (879, 1, 12)\n",
      "shifted train y (879, 1)\n",
      "shifted test x (376, 1, 12)\n",
      "shifted test y (376, 1)\n"
     ]
    }
   ],
   "source": [
    "window = 3\n",
    "x_train, y_train, x_test, y_test = split_data(df, feat_names, target_name, window)\n",
    "\n",
    "print(\"shifted train x\", x_train.shape)\n",
    "print(\"shifted train y\", y_train.shape)\n",
    "\n",
    "print(\"shifted test x\", x_test.shape)\n",
    "print(\"shifted test y\", y_test.shape)"
   ]
  },
  {
   "cell_type": "code",
   "execution_count": 193,
   "id": "a8766697-7daf-46c7-a62f-5fc48205010b",
   "metadata": {},
   "outputs": [],
   "source": [
    "import torch\n",
    "import torch.nn as nn\n",
    "\n",
    "def to_tensor(np_array):\n",
    "    return torch.from_numpy(np_array).type(torch.Tensor)\n",
    "x_train = to_tensor(x_train)\n",
    "x_test = to_tensor(x_test)\n",
    "\n",
    "y_train_lstm = to_tensor(y_train)\n",
    "y_test_lstm = to_tensor(y_test)"
   ]
  },
  {
   "cell_type": "code",
   "execution_count": 213,
   "id": "c4677ed4-ac47-475a-9436-75c4f5ad7ea2",
   "metadata": {},
   "outputs": [],
   "source": [
    "input_dim = 12\n",
    "hidden_dim = 200\n",
    "num_layers = 2\n",
    "output_dim = 1\n",
    "num_epochs = 200"
   ]
  },
  {
   "cell_type": "code",
   "execution_count": 214,
   "id": "4a5bad88-205d-4b25-98e9-1ea7c8d820d4",
   "metadata": {},
   "outputs": [],
   "source": [
    "class LSTM(nn.Module):\n",
    "    def __init__(self, input_dim, hidden_dim, num_layers, output_dim):\n",
    "        super(LSTM, self).__init__()\n",
    "        self.hidden_dim = hidden_dim\n",
    "        self.num_layers = num_layers\n",
    "        self.lstm = nn.LSTM(input_dim, hidden_dim, num_layers, batch_first=True)\n",
    "        self.fc = nn.Linear(hidden_dim, output_dim)\n",
    "    def forward(self, x):\n",
    "        h0 = torch.zeros(self.num_layers, x.size(0), self.hidden_dim).requires_grad_()\n",
    "        c0 = torch.zeros(self.num_layers, x.size(0), self.hidden_dim).requires_grad_()\n",
    "        out, (hn, cn) = self.lstm(x, (h0.detach(), c0.detach()))\n",
    "        out = self.fc(out[:, -1, :])\n",
    "        return out"
   ]
  },
  {
   "cell_type": "code",
   "execution_count": 215,
   "id": "2082852e-1bfd-480d-9cf9-7d2c65c5decb",
   "metadata": {},
   "outputs": [
    {
     "name": "stdout",
     "output_type": "stream",
     "text": [
      "Epoch  0 MSE:  0.21975871920585632\n",
      "Epoch  1 MSE:  0.1325359344482422\n",
      "Epoch  2 MSE:  0.07864128053188324\n",
      "Epoch  3 MSE:  0.0789056122303009\n",
      "Epoch  4 MSE:  0.0258888378739357\n",
      "Epoch  5 MSE:  0.016666743904352188\n",
      "Epoch  6 MSE:  0.014348844066262245\n",
      "Epoch  7 MSE:  0.012995009310543537\n",
      "Epoch  8 MSE:  0.019407184794545174\n",
      "Epoch  9 MSE:  0.017370812594890594\n",
      "Epoch  10 MSE:  0.006720964331179857\n",
      "Epoch  11 MSE:  0.0036188990343362093\n",
      "Epoch  12 MSE:  0.009712512604892254\n",
      "Epoch  13 MSE:  0.012898254208266735\n",
      "Epoch  14 MSE:  0.01032166089862585\n",
      "Epoch  15 MSE:  0.008250326849520206\n",
      "Epoch  16 MSE:  0.008150208741426468\n",
      "Epoch  17 MSE:  0.005598363932222128\n",
      "Epoch  18 MSE:  0.002698546275496483\n",
      "Epoch  19 MSE:  0.0028044250793755054\n",
      "Epoch  20 MSE:  0.004370374605059624\n",
      "Epoch  21 MSE:  0.0051407888531684875\n",
      "Epoch  22 MSE:  0.004807060118764639\n",
      "Epoch  23 MSE:  0.00415319437161088\n",
      "Epoch  24 MSE:  0.003607983235269785\n",
      "Epoch  25 MSE:  0.0029870045837014914\n",
      "Epoch  26 MSE:  0.0025428759399801493\n",
      "Epoch  27 MSE:  0.0028788524214178324\n",
      "Epoch  28 MSE:  0.0035731461830437183\n",
      "Epoch  29 MSE:  0.003662841161713004\n",
      "Epoch  30 MSE:  0.0031464858911931515\n",
      "Epoch  31 MSE:  0.002699271310120821\n",
      "Epoch  32 MSE:  0.002418802585452795\n",
      "Epoch  33 MSE:  0.0020682404283434153\n",
      "Epoch  34 MSE:  0.0019499830668792129\n",
      "Epoch  35 MSE:  0.002233854727819562\n",
      "Epoch  36 MSE:  0.002468263730406761\n",
      "Epoch  37 MSE:  0.002341831335797906\n",
      "Epoch  38 MSE:  0.0020887397695332766\n",
      "Epoch  39 MSE:  0.0019399636657908559\n",
      "Epoch  40 MSE:  0.0017922804690897465\n",
      "Epoch  41 MSE:  0.001681473688222468\n",
      "Epoch  42 MSE:  0.001773041090928018\n",
      "Epoch  43 MSE:  0.0018882660660892725\n",
      "Epoch  44 MSE:  0.0018211192218586802\n",
      "Epoch  45 MSE:  0.0016938348999246955\n",
      "Epoch  46 MSE:  0.0015931555535644293\n",
      "Epoch  47 MSE:  0.0014502243138849735\n",
      "Epoch  48 MSE:  0.0013680423144251108\n",
      "Epoch  49 MSE:  0.0014250495005398989\n",
      "Epoch  50 MSE:  0.0014701489126309752\n",
      "Epoch  51 MSE:  0.0014197907876223326\n",
      "Epoch  52 MSE:  0.0013439229223877192\n",
      "Epoch  53 MSE:  0.001263329409994185\n",
      "Epoch  54 MSE:  0.0011916268849745393\n",
      "Epoch  55 MSE:  0.0011949497275054455\n",
      "Epoch  56 MSE:  0.0012240544892847538\n",
      "Epoch  57 MSE:  0.001191364717669785\n",
      "Epoch  58 MSE:  0.0011313487775623798\n",
      "Epoch  59 MSE:  0.0010795106645673513\n",
      "Epoch  60 MSE:  0.0010395824210718274\n",
      "Epoch  61 MSE:  0.0010479139164090157\n",
      "Epoch  62 MSE:  0.0010671813506633043\n",
      "Epoch  63 MSE:  0.001037481240928173\n",
      "Epoch  64 MSE:  0.0009968779049813747\n",
      "Epoch  65 MSE:  0.0009801741689443588\n",
      "Epoch  66 MSE:  0.000979535048827529\n",
      "Epoch  67 MSE:  0.0009929738007485867\n",
      "Epoch  68 MSE:  0.0009857055265456438\n",
      "Epoch  69 MSE:  0.0009559195605106652\n",
      "Epoch  70 MSE:  0.0009470449294894934\n",
      "Epoch  71 MSE:  0.0009539374150335789\n",
      "Epoch  72 MSE:  0.0009596555028110743\n",
      "Epoch  73 MSE:  0.0009547497611492872\n",
      "Epoch  74 MSE:  0.0009372017229907215\n",
      "Epoch  75 MSE:  0.0009354320354759693\n",
      "Epoch  76 MSE:  0.0009444812894798815\n",
      "Epoch  77 MSE:  0.0009414000087417662\n",
      "Epoch  78 MSE:  0.0009328431915491819\n",
      "Epoch  79 MSE:  0.0009236077894456685\n",
      "Epoch  80 MSE:  0.0009235628531314433\n",
      "Epoch  81 MSE:  0.0009265937842428684\n",
      "Epoch  82 MSE:  0.0009183906950056553\n",
      "Epoch  83 MSE:  0.0009106369107030332\n",
      "Epoch  84 MSE:  0.0009075172711163759\n",
      "Epoch  85 MSE:  0.0009069514344446361\n",
      "Epoch  86 MSE:  0.000904541986528784\n",
      "Epoch  87 MSE:  0.000896389246918261\n",
      "Epoch  88 MSE:  0.0008919183164834976\n",
      "Epoch  89 MSE:  0.0008904998539946973\n",
      "Epoch  90 MSE:  0.0008879554807208478\n",
      "Epoch  91 MSE:  0.0008835867047309875\n",
      "Epoch  92 MSE:  0.0008781103533692658\n",
      "Epoch  93 MSE:  0.0008762688376009464\n",
      "Epoch  94 MSE:  0.0008748096879571676\n",
      "Epoch  95 MSE:  0.0008714401628822088\n",
      "Epoch  96 MSE:  0.0008678006124682724\n",
      "Epoch  97 MSE:  0.0008647798676975071\n",
      "Epoch  98 MSE:  0.0008635526173748076\n",
      "Epoch  99 MSE:  0.0008612298988737166\n",
      "Epoch  100 MSE:  0.0008578940760344267\n",
      "Epoch  101 MSE:  0.0008552858489565551\n",
      "Epoch  102 MSE:  0.0008532876381650567\n",
      "Epoch  103 MSE:  0.0008516114903613925\n",
      "Epoch  104 MSE:  0.0008488311432301998\n",
      "Epoch  105 MSE:  0.0008461216348223388\n",
      "Epoch  106 MSE:  0.0008440809906460345\n",
      "Epoch  107 MSE:  0.0008420684607699513\n",
      "Epoch  108 MSE:  0.0008397669880650938\n",
      "Epoch  109 MSE:  0.0008369878050871193\n",
      "Epoch  110 MSE:  0.0008347684633918107\n",
      "Epoch  111 MSE:  0.0008327197283506393\n",
      "Epoch  112 MSE:  0.0008304367074742913\n",
      "Epoch  113 MSE:  0.0008279537432827055\n",
      "Epoch  114 MSE:  0.0008255593129433692\n",
      "Epoch  115 MSE:  0.0008235312416218221\n",
      "Epoch  116 MSE:  0.0008212741813622415\n",
      "Epoch  117 MSE:  0.00081890809815377\n",
      "Epoch  118 MSE:  0.0008165814797393978\n",
      "Epoch  119 MSE:  0.0008144697640091181\n",
      "Epoch  120 MSE:  0.0008123354054987431\n",
      "Epoch  121 MSE:  0.0008100278209894896\n",
      "Epoch  122 MSE:  0.0008078222745098174\n",
      "Epoch  123 MSE:  0.0008057006052695215\n",
      "Epoch  124 MSE:  0.0008036166545934975\n",
      "Epoch  125 MSE:  0.000801393820438534\n",
      "Epoch  126 MSE:  0.0007992293685674667\n",
      "Epoch  127 MSE:  0.0007971446611918509\n",
      "Epoch  128 MSE:  0.0007950545405037701\n",
      "Epoch  129 MSE:  0.0007929066196084023\n",
      "Epoch  130 MSE:  0.0007907666731625795\n",
      "Epoch  131 MSE:  0.0007887108949944377\n",
      "Epoch  132 MSE:  0.0007866229279898107\n",
      "Epoch  133 MSE:  0.0007845123764127493\n",
      "Epoch  134 MSE:  0.0007824028725735843\n",
      "Epoch  135 MSE:  0.000780351459980011\n",
      "Epoch  136 MSE:  0.0007782750762999058\n",
      "Epoch  137 MSE:  0.0007761821034364402\n",
      "Epoch  138 MSE:  0.0007741057779639959\n",
      "Epoch  139 MSE:  0.0007720590801909566\n",
      "Epoch  140 MSE:  0.0007700019050389528\n",
      "Epoch  141 MSE:  0.0007679302943870425\n",
      "Epoch  142 MSE:  0.0007658834801986814\n",
      "Epoch  143 MSE:  0.0007638480165041983\n",
      "Epoch  144 MSE:  0.0007618084782734513\n",
      "Epoch  145 MSE:  0.0007597612566314638\n",
      "Epoch  146 MSE:  0.0007577383075840771\n",
      "Epoch  147 MSE:  0.0007557191420346498\n",
      "Epoch  148 MSE:  0.0007536987541243434\n",
      "Epoch  149 MSE:  0.0007516789482906461\n",
      "Epoch  150 MSE:  0.0007496768957935274\n",
      "Epoch  151 MSE:  0.0007476753671653569\n",
      "Epoch  152 MSE:  0.0007456734892912209\n",
      "Epoch  153 MSE:  0.0007436773157678545\n",
      "Epoch  154 MSE:  0.0007416931330226362\n",
      "Epoch  155 MSE:  0.0007397091249004006\n",
      "Epoch  156 MSE:  0.0007377273868769407\n",
      "Epoch  157 MSE:  0.0007357540889643133\n",
      "Epoch  158 MSE:  0.0007337877177633345\n",
      "Epoch  159 MSE:  0.0007318216958083212\n",
      "Epoch  160 MSE:  0.0007298605632968247\n",
      "Epoch  161 MSE:  0.0007279078708961606\n",
      "Epoch  162 MSE:  0.0007259591948240995\n",
      "Epoch  163 MSE:  0.0007240138947963715\n",
      "Epoch  164 MSE:  0.000722075579687953\n",
      "Epoch  165 MSE:  0.0007201440748758614\n",
      "Epoch  166 MSE:  0.0007182161207310855\n",
      "Epoch  167 MSE:  0.0007162935216911137\n",
      "Epoch  168 MSE:  0.0007143781986087561\n",
      "Epoch  169 MSE:  0.0007124687545001507\n",
      "Epoch  170 MSE:  0.0007105641416274011\n",
      "Epoch  171 MSE:  0.0007086667465046048\n",
      "Epoch  172 MSE:  0.0007067761616781354\n",
      "Epoch  173 MSE:  0.0007048912229947746\n",
      "Epoch  174 MSE:  0.0007030126871541142\n",
      "Epoch  175 MSE:  0.0007011416601017118\n",
      "Epoch  176 MSE:  0.0006992772105149925\n",
      "Epoch  177 MSE:  0.0006974192219786346\n",
      "Epoch  178 MSE:  0.0006955692660994828\n",
      "Epoch  179 MSE:  0.0006937265861779451\n",
      "Epoch  180 MSE:  0.0006918908911757171\n",
      "Epoch  181 MSE:  0.0006900627631694078\n",
      "Epoch  182 MSE:  0.000688243075273931\n",
      "Epoch  183 MSE:  0.0006864310707896948\n",
      "Epoch  184 MSE:  0.0006846270989626646\n",
      "Epoch  185 MSE:  0.0006828319164924324\n",
      "Epoch  186 MSE:  0.0006810451159253716\n",
      "Epoch  187 MSE:  0.0006792665808461607\n",
      "Epoch  188 MSE:  0.0006774973589926958\n",
      "Epoch  189 MSE:  0.0006757371593266726\n",
      "Epoch  190 MSE:  0.0006739861564710736\n",
      "Epoch  191 MSE:  0.0006722446414642036\n",
      "Epoch  192 MSE:  0.0006705131381750107\n",
      "Epoch  193 MSE:  0.0006687911227345467\n",
      "Epoch  194 MSE:  0.0006670790025964379\n",
      "Epoch  195 MSE:  0.0006653773598372936\n",
      "Epoch  196 MSE:  0.0006636860780417919\n",
      "Epoch  197 MSE:  0.0006620054482482374\n",
      "Epoch  198 MSE:  0.0006603356450796127\n",
      "Epoch  199 MSE:  0.0006586769595742226\n"
     ]
    }
   ],
   "source": [
    "model = LSTM(input_dim=input_dim, hidden_dim=hidden_dim, output_dim=output_dim, num_layers=num_layers)\n",
    "mse = torch.nn.MSELoss(reduction='mean')\n",
    "optimizer = torch.optim.Adam(model.parameters(), lr=0.01)\n",
    "\n",
    "import time\n",
    "losses = []\n",
    "for t in range(num_epochs):\n",
    "    y_train_pred = model(x_train)\n",
    "    loss = mse(y_train_pred, y_train_lstm)\n",
    "    print(\"Epoch \", t, \"MSE: \", loss.item())\n",
    "\n",
    "    optimizer.zero_grad()\n",
    "    loss.backward()\n",
    "    optimizer.step()\n",
    "    losses.append(loss)\n"
   ]
  },
  {
   "cell_type": "code",
   "execution_count": 216,
   "id": "25171709-d386-4b2a-ad9b-05ff2cf6bd94",
   "metadata": {},
   "outputs": [],
   "source": [
    "y_train_pred_inverse = pd.DataFrame(scalers[\"Open\"].inverse_transform(y_train_pred.detach().numpy()))\n",
    "y_train_lstm_inverse = pd.DataFrame(scalers[\"Open\"].inverse_transform(y_train_lstm.detach().numpy()))"
   ]
  },
  {
   "cell_type": "code",
   "execution_count": 219,
   "id": "8e4867e4-257a-4346-b8eb-18ab64c4f93d",
   "metadata": {},
   "outputs": [
    {
     "data": {
      "text/plain": [
       "Text(0, 0.5, 'Open Price')"
      ]
     },
     "execution_count": 219,
     "metadata": {},
     "output_type": "execute_result"
    },
    {
     "data": {
      "image/png": "[encoded data removed]",
      "text/plain": [
       "<Figure size 432x288 with 1 Axes>"
      ]
     },
     "metadata": {},
     "output_type": "display_data"
    }
   ],
   "source": [
    "import seaborn as sns\n",
    "import matplotlib.pyplot as plt   \n",
    "\n",
    "fig = plt.figure()\n",
    "\n",
    "ax = sns.lineplot(x=y_train_pred_inverse.index, y=y_train_pred_inverse[0], label=\"Groud truth\", color='grey')\n",
    "ax = sns.lineplot(x=y_train_lstm_inverse.index, y=y_train_lstm_inverse[0], label=\"LSTM prediction\", color='red')\n",
    "ax.set_title('Training', size = 14, fontweight='bold')\n",
    "ax.set_xlabel(\"Day\", size = 14)\n",
    "ax.set_ylabel(\"Open Price\", size = 14)"
   ]
  },
  {
   "cell_type": "code",
   "execution_count": 220,
   "id": "d825ab4c-2610-4b35-b15c-f9a832cbfb3e",
   "metadata": {},
   "outputs": [],
   "source": [
    "y_test_pred = model(x_test)"
   ]
  },
  {
   "cell_type": "code",
   "execution_count": 221,
   "id": "95f3368c-d43e-449f-9267-30560f6083a6",
   "metadata": {},
   "outputs": [
    {
     "name": "stdout",
     "output_type": "stream",
     "text": [
      "tensor(13.7184)\n"
     ]
    }
   ],
   "source": [
    "y_test_pred_inverse = pd.DataFrame(scalers[\"Open\"].inverse_transform(y_test_pred.detach().numpy()))\n",
    "y_test_lstm_inverse = pd.DataFrame(scalers[\"Open\"].inverse_transform(y_test_lstm.detach().numpy()))\n",
    "loss = mse(to_tensor(y_test_pred_inverse[0].to_numpy()), to_tensor(y_test_lstm_inverse[0].to_numpy()))\n",
    "print(loss)"
   ]
  },
  {
   "cell_type": "code",
   "execution_count": 212,
   "id": "f015502d-f595-455a-8243-88afb184e93e",
   "metadata": {},
   "outputs": [
    {
     "data": {
      "text/plain": [
       "[Text(-50.0, 0, ''),\n",
       " Text(0.0, 0, ''),\n",
       " Text(50.0, 0, ''),\n",
       " Text(100.0, 0, ''),\n",
       " Text(150.0, 0, ''),\n",
       " Text(200.0, 0, ''),\n",
       " Text(250.0, 0, ''),\n",
       " Text(300.0, 0, ''),\n",
       " Text(350.0, 0, ''),\n",
       " Text(400.0, 0, '')]"
      ]
     },
     "execution_count": 212,
     "metadata": {},
     "output_type": "execute_result"
    },
    {
     "data": {
      "image/png": "[encoded data removed]",
      "text/plain": [
       "<Figure size 432x288 with 1 Axes>"
      ]
     },
     "metadata": {},
     "output_type": "display_data"
    }
   ],
   "source": [
    "fig = plt.figure()\n",
    "\n",
    "ax = sns.lineplot(x = y_test_pred_inverse.index, y = y_test_pred_inverse[0], label=\"Groud truth\", color='grey')\n",
    "ax = sns.lineplot(x = y_test_lstm_inverse.index, y = y_test_lstm_inverse[0], label=\"LSTM prediction\", color='red')\n",
    "ax.set_title('Test set prediction', size = 14, fontweight='bold')\n",
    "ax.set_xlabel(\"Days\", size = 14)\n",
    "ax.set_ylabel(\"$\", size = 14)\n",
    "ax.set_xticklabels('', size=10)"
   ]
  },
  {
   "cell_type": "code",
   "execution_count": null,
   "id": "6d53bc51-46c2-472f-806b-5a29b8f22ec9",
   "metadata": {},
   "outputs": [],
   "source": []
  },
  {
   "cell_type": "code",
   "execution_count": null,
   "id": "baf4974e-db2c-4a3a-af3e-dd8ac7bb2847",
   "metadata": {},
   "outputs": [],
   "source": []
  },
  {
   "cell_type": "code",
   "execution_count": null,
   "id": "02be7ec4-f5ac-43f3-ad09-55db266fe422",
   "metadata": {},
   "outputs": [],
   "source": []
  }
 ],
 "metadata": {
  "kernelspec": {
   "display_name": "py3.8-jupyter",
   "language": "python",
   "name": "py3.8-jupyter"
  },
  "language_info": {
   "codemirror_mode": {
    "name": "ipython",
    "version": 3
   },
   "file_extension": ".py",
   "mimetype": "text/x-python",
   "name": "python",
   "nbconvert_exporter": "python",
   "pygments_lexer": "ipython3",
   "version": "3.8.10"
  }
 },
 "nbformat": 4,
 "nbformat_minor": 5
}
